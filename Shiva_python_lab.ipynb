{
  "nbformat": 4,
  "nbformat_minor": 0,
  "metadata": {
    "colab": {
      "provenance": []
    },
    "kernelspec": {
      "name": "python3",
      "display_name": "Python 3"
    },
    "language_info": {
      "name": "python"
    }
  },
  "cells": [
    {
      "cell_type": "code",
      "execution_count": 10,
      "metadata": {
        "colab": {
          "base_uri": "https://localhost:8080/"
        },
        "id": "kcxXeCNk74zd",
        "outputId": "e93f1408-c83b-4ef8-fc26-98c194a3d381"
      },
      "outputs": [
        {
          "output_type": "stream",
          "name": "stdout",
          "text": [
            "Invalid mileage:  32.13\n"
          ]
        }
      ],
      "source": [
        "class ValidationException(Exception):\n",
        "    \"\"\"Custom exception for invalid mileage.\"\"\"\n",
        "    pass\n",
        "\n",
        "def validate_file(file_path):\n",
        "    with open(file_path, 'r') as file:\n",
        "        next(file)  # Skip header line\n",
        "        for line in file:\n",
        "            line = line.strip()\n",
        "            if not line:\n",
        "                continue  # skip empty lines\n",
        "            parts = line.split(',')\n",
        "            if len(parts) < 2:\n",
        "                continue  # skip invalid lines\n",
        "            mileage_str = parts[1].strip()  # mileage is second column\n",
        "            try:\n",
        "                int(mileage_str)  # validate integer\n",
        "            except ValueError:\n",
        "                raise ValidationException(f\"Invalid mileage:  {mileage_str}\")\n",
        "\n",
        "def ex1():\n",
        "    try:\n",
        "        validate_file(\"/content/input.txt\")\n",
        "    except ValidationException as ve:\n",
        "        print(ve)\n",
        "\n",
        "ex1()\n"
      ]
    },
    {
      "cell_type": "code",
      "source": [
        "import csv\n",
        "\n",
        "def find_total_visits():\n",
        "    # Define the input file paths\n",
        "    week1 = '/content/week-1.csv'\n",
        "    week2 = '/content/week-2.csv'\n",
        "    week3 = '/content/week-3.csv'\n",
        "\n",
        "    files = [week1, week2, week3]\n",
        "    total_visits = 0\n",
        "\n",
        "    # Loop through each file\n",
        "    for filename in files:\n",
        "        with open(filename, 'r') as file:\n",
        "            reader = csv.reader(file)\n",
        "            next(reader)  # Skip the header row\n",
        "            for row in reader:\n",
        "                # Convert daily values (1s and 0s) to integers and sum them\n",
        "                visits = sum(int(x) for x in row[1:])\n",
        "                total_visits += visits\n",
        "\n",
        "    return total_visits\n",
        "\n",
        "\n",
        "# Example usage\n",
        "def ex2():\n",
        "    total = find_total_visits()\n",
        "    print(f\"Total visits: {total}.\")\n",
        "\n",
        "# Run the function\n",
        "ex2()\n"
      ],
      "metadata": {
        "colab": {
          "base_uri": "https://localhost:8080/"
        },
        "id": "5KjFh4W-BBXe",
        "outputId": "d8819d5e-4997-4112-bd56-e4536ee553c1"
      },
      "execution_count": 12,
      "outputs": [
        {
          "output_type": "stream",
          "name": "stdout",
          "text": [
            "Total visits: 21.\n"
          ]
        }
      ]
    },
    {
      "cell_type": "code",
      "source": [
        "def count_words(filename):\n",
        "    # Update input file path\n",
        "    input_path = f\"/content/{filename}\"\n",
        "    large_words_path = \"/content/large-words.txt\"\n",
        "    small_words_path = \"/content/small-words.txt\"\n",
        "\n",
        "    # Use sets to keep unique words\n",
        "    unique_words = set()\n",
        "\n",
        "    with open(input_path, 'r') as file:\n",
        "        text = file.read()\n",
        "\n",
        "        # Split text into words and clean punctuation\n",
        "        words = text.replace('\\n', ' ').split()\n",
        "\n",
        "        # Separate words into large and small categories\n",
        "        large_words = []\n",
        "        small_words = []\n",
        "\n",
        "        for word in words:\n",
        "            clean_word = word.strip('.,!?;:\"()').strip()\n",
        "            if clean_word:  # Skip empty strings\n",
        "                unique_words.add(clean_word)\n",
        "                if len(clean_word) < 3:\n",
        "                    small_words.append(clean_word)\n",
        "                else:\n",
        "                    large_words.append(clean_word)\n",
        "\n",
        "    # Write large words\n",
        "    with open(large_words_path, 'w') as large_file:\n",
        "        for word in large_words:\n",
        "            large_file.write(word + '\\n')\n",
        "\n",
        "    # Write small words\n",
        "    with open(small_words_path, 'w') as small_file:\n",
        "        for word in small_words:\n",
        "            small_file.write(word + '\\n')\n",
        "\n",
        "    return len(unique_words)\n",
        "\n",
        "\n",
        "# Example usage\n",
        "def ex3():\n",
        "    total_words = count_words(\"words.txt\")\n",
        "    print(f\"Total words: {total_words}.\")\n",
        "\n",
        "# Run the function\n",
        "ex3()\n"
      ],
      "metadata": {
        "colab": {
          "base_uri": "https://localhost:8080/"
        },
        "id": "Qhzhh6uhDHhr",
        "outputId": "9d3c9571-3734-4f7e-bcde-4300771f9463"
      },
      "execution_count": 13,
      "outputs": [
        {
          "output_type": "stream",
          "name": "stdout",
          "text": [
            "Total words: 16.\n"
          ]
        }
      ]
    },
    {
      "cell_type": "code",
      "source": [
        "import boto3\n",
        "\n",
        "def calculate():\n",
        "    # Replace with your actual Student ID\n",
        "    student_id = \"123456\"\n",
        "    log_filename = f\"calculator-log-{student_id}.txt\"\n",
        "    log_path = f\"/content/{log_filename}\"\n",
        "\n",
        "    calculations = []\n",
        "\n",
        "    while True:\n",
        "        first = input(\"Enter first number (or 'q' to quit): \")\n",
        "        if first.lower() == 'q':\n",
        "            break\n",
        "\n",
        "        second = input(\"Enter second number: \")\n",
        "\n",
        "        try:\n",
        "            num1 = float(first)\n",
        "            num2 = float(second)\n",
        "            result = num1 + num2\n",
        "            print(f\"{num1} + {num2} = {result}\")\n",
        "\n",
        "            # Store calculation log\n",
        "            calculations.append(f\"{num1} + {num2} = {result}\")\n",
        "        except ValueError:\n",
        "            print(\"Invalid input. Please enter numbers or 'q' to quit.\")\n",
        "            continue\n",
        "\n",
        "    # Write all logs to file\n",
        "    with open(log_path, 'w') as log_file:\n",
        "        for line in calculations:\n",
        "            log_file.write(line + '\\n')\n",
        "\n",
        "    # --- Upload file to S3 ---\n",
        "    try:\n",
        "        # Create S3 client (requires AWS credentials configured)\n",
        "        s3 = boto3.client('s3')\n",
        "\n",
        "        # Replace with your actual bucket name\n",
        "        bucket_name = \"your-s3-bucket-name\"\n",
        "        s3.upload_file(log_path, bucket_name, log_filename)\n",
        "\n",
        "        print(\"*** Uploaded to S3 ***\")\n",
        "\n",
        "    except Exception as e:\n",
        "        print(f\"Error uploading to S3: {e}\")\n",
        "\n",
        "\n",
        "# Example usage\n",
        "def ex4():\n",
        "    calculate()\n",
        "\n",
        "# Run the function\n",
        "ex4()\n"
      ],
      "metadata": {
        "colab": {
          "base_uri": "https://localhost:8080/",
          "height": 383
        },
        "id": "2uZr62tpEZ9F",
        "outputId": "c6f24c06-6332-4c58-c6de-5a32aae76f32"
      },
      "execution_count": 14,
      "outputs": [
        {
          "output_type": "error",
          "ename": "ModuleNotFoundError",
          "evalue": "No module named 'boto3'",
          "traceback": [
            "\u001b[0;31m---------------------------------------------------------------------------\u001b[0m",
            "\u001b[0;31mModuleNotFoundError\u001b[0m                       Traceback (most recent call last)",
            "\u001b[0;32m/tmp/ipython-input-3403020152.py\u001b[0m in \u001b[0;36m<cell line: 0>\u001b[0;34m()\u001b[0m\n\u001b[0;32m----> 1\u001b[0;31m \u001b[0;32mimport\u001b[0m \u001b[0mboto3\u001b[0m\u001b[0;34m\u001b[0m\u001b[0;34m\u001b[0m\u001b[0m\n\u001b[0m\u001b[1;32m      2\u001b[0m \u001b[0;34m\u001b[0m\u001b[0m\n\u001b[1;32m      3\u001b[0m \u001b[0;32mdef\u001b[0m \u001b[0mcalculate\u001b[0m\u001b[0;34m(\u001b[0m\u001b[0;34m)\u001b[0m\u001b[0;34m:\u001b[0m\u001b[0;34m\u001b[0m\u001b[0;34m\u001b[0m\u001b[0m\n\u001b[1;32m      4\u001b[0m     \u001b[0;31m# Replace with your actual Student ID\u001b[0m\u001b[0;34m\u001b[0m\u001b[0;34m\u001b[0m\u001b[0m\n\u001b[1;32m      5\u001b[0m     \u001b[0mstudent_id\u001b[0m \u001b[0;34m=\u001b[0m \u001b[0;34m\"123456\"\u001b[0m\u001b[0;34m\u001b[0m\u001b[0;34m\u001b[0m\u001b[0m\n",
            "\u001b[0;31mModuleNotFoundError\u001b[0m: No module named 'boto3'",
            "",
            "\u001b[0;31m---------------------------------------------------------------------------\u001b[0;32m\nNOTE: If your import is failing due to a missing package, you can\nmanually install dependencies using either !pip or !apt.\n\nTo view examples of installing some common dependencies, click the\n\"Open Examples\" button below.\n\u001b[0;31m---------------------------------------------------------------------------\u001b[0m\n"
          ],
          "errorDetails": {
            "actions": [
              {
                "action": "open_url",
                "actionText": "Open Examples",
                "url": "/notebooks/snippets/importing_libraries.ipynb"
              }
            ]
          }
        }
      ]
    },
    {
      "cell_type": "code",
      "source": [
        "!pip install boto3\n"
      ],
      "metadata": {
        "colab": {
          "base_uri": "https://localhost:8080/"
        },
        "id": "6IUpp0fGEuHy",
        "outputId": "b2825846-5b85-4a21-aed7-74fff6546fe2"
      },
      "execution_count": 15,
      "outputs": [
        {
          "output_type": "stream",
          "name": "stdout",
          "text": [
            "Collecting boto3\n",
            "  Downloading boto3-1.40.53-py3-none-any.whl.metadata (6.6 kB)\n",
            "Collecting botocore<1.41.0,>=1.40.53 (from boto3)\n",
            "  Downloading botocore-1.40.53-py3-none-any.whl.metadata (5.7 kB)\n",
            "Collecting jmespath<2.0.0,>=0.7.1 (from boto3)\n",
            "  Downloading jmespath-1.0.1-py3-none-any.whl.metadata (7.6 kB)\n",
            "Collecting s3transfer<0.15.0,>=0.14.0 (from boto3)\n",
            "  Downloading s3transfer-0.14.0-py3-none-any.whl.metadata (1.7 kB)\n",
            "Requirement already satisfied: python-dateutil<3.0.0,>=2.1 in /usr/local/lib/python3.12/dist-packages (from botocore<1.41.0,>=1.40.53->boto3) (2.9.0.post0)\n",
            "Requirement already satisfied: urllib3!=2.2.0,<3,>=1.25.4 in /usr/local/lib/python3.12/dist-packages (from botocore<1.41.0,>=1.40.53->boto3) (2.5.0)\n",
            "Requirement already satisfied: six>=1.5 in /usr/local/lib/python3.12/dist-packages (from python-dateutil<3.0.0,>=2.1->botocore<1.41.0,>=1.40.53->boto3) (1.17.0)\n",
            "Downloading boto3-1.40.53-py3-none-any.whl (139 kB)\n",
            "\u001b[2K   \u001b[90m━━━━━━━━━━━━━━━━━━━━━━━━━━━━━━━━━━━━━━━━\u001b[0m \u001b[32m139.3/139.3 kB\u001b[0m \u001b[31m5.0 MB/s\u001b[0m eta \u001b[36m0:00:00\u001b[0m\n",
            "\u001b[?25hDownloading botocore-1.40.53-py3-none-any.whl (14.1 MB)\n",
            "\u001b[2K   \u001b[90m━━━━━━━━━━━━━━━━━━━━━━━━━━━━━━━━━━━━━━━━\u001b[0m \u001b[32m14.1/14.1 MB\u001b[0m \u001b[31m102.5 MB/s\u001b[0m eta \u001b[36m0:00:00\u001b[0m\n",
            "\u001b[?25hDownloading jmespath-1.0.1-py3-none-any.whl (20 kB)\n",
            "Downloading s3transfer-0.14.0-py3-none-any.whl (85 kB)\n",
            "\u001b[2K   \u001b[90m━━━━━━━━━━━━━━━━━━━━━━━━━━━━━━━━━━━━━━━━\u001b[0m \u001b[32m85.7/85.7 kB\u001b[0m \u001b[31m5.7 MB/s\u001b[0m eta \u001b[36m0:00:00\u001b[0m\n",
            "\u001b[?25hInstalling collected packages: jmespath, botocore, s3transfer, boto3\n",
            "Successfully installed boto3-1.40.53 botocore-1.40.53 jmespath-1.0.1 s3transfer-0.14.0\n"
          ]
        }
      ]
    },
    {
      "cell_type": "code",
      "source": [
        "import boto3\n",
        "\n",
        "def calculate():\n",
        "    # Replace with your actual Student ID\n",
        "    student_id = \"123456\"\n",
        "    log_filename = f\"calculator-log-{student_id}.txt\"\n",
        "    log_path = f\"/content/{log_filename}\"\n",
        "\n",
        "    calculations = []\n",
        "\n",
        "    while True:\n",
        "        first = input(\"Enter first number (or 'q' to quit): \")\n",
        "        if first.lower() == 'q':\n",
        "            break\n",
        "\n",
        "        second = input(\"Enter second number: \")\n",
        "\n",
        "        try:\n",
        "            num1 = float(first)\n",
        "            num2 = float(second)\n",
        "            result = num1 + num2\n",
        "            print(f\"{num1} + {num2} = {result}\")\n",
        "\n",
        "            # Store calculation log\n",
        "            calculations.append(f\"{num1} + {num2} = {result}\")\n",
        "        except ValueError:\n",
        "            print(\"Invalid input. Please enter numbers or 'q' to quit.\")\n",
        "            continue\n",
        "\n",
        "    # Write all logs to file\n",
        "    with open(log_path, 'w') as log_file:\n",
        "        for line in calculations:\n",
        "            log_file.write(line + '\\n')\n",
        "\n",
        "    # --- Upload file to S3 ---\n",
        "    try:\n",
        "        # Create S3 client (requires AWS credentials configured)\n",
        "        s3 = boto3.client('s3')\n",
        "\n",
        "        # Replace with your actual bucket name\n",
        "        bucket_name = \"your-s3-bucket-name\"\n",
        "        s3.upload_file(log_path, bucket_name, log_filename)\n",
        "\n",
        "        print(\"*** Uploaded to S3 ***\")\n",
        "\n",
        "    except Exception as e:\n",
        "        print(f\"Error uploading to S3: {e}\")\n",
        "\n",
        "\n",
        "# Example usage\n",
        "def ex4():\n",
        "    calculate()\n",
        "\n",
        "# Run the function\n",
        "ex4()\n"
      ],
      "metadata": {
        "colab": {
          "base_uri": "https://localhost:8080/",
          "height": 373
        },
        "id": "Z4yxjmMbE1KY",
        "outputId": "32e7bfe2-5af9-4b97-b672-0bcf8897b356"
      },
      "execution_count": 17,
      "outputs": [
        {
          "output_type": "stream",
          "name": "stdout",
          "text": [
            "Enter first number (or 'q' to quit): 1\n",
            "Enter second number: 2\n",
            "1.0 + 2.0 = 3.0\n"
          ]
        },
        {
          "output_type": "error",
          "ename": "KeyboardInterrupt",
          "evalue": "Interrupted by user",
          "traceback": [
            "\u001b[0;31m---------------------------------------------------------------------------\u001b[0m",
            "\u001b[0;31mKeyboardInterrupt\u001b[0m                         Traceback (most recent call last)",
            "\u001b[0;32m/tmp/ipython-input-3403020152.py\u001b[0m in \u001b[0;36m<cell line: 0>\u001b[0;34m()\u001b[0m\n\u001b[1;32m     53\u001b[0m \u001b[0;34m\u001b[0m\u001b[0m\n\u001b[1;32m     54\u001b[0m \u001b[0;31m# Run the function\u001b[0m\u001b[0;34m\u001b[0m\u001b[0;34m\u001b[0m\u001b[0m\n\u001b[0;32m---> 55\u001b[0;31m \u001b[0mex4\u001b[0m\u001b[0;34m(\u001b[0m\u001b[0;34m)\u001b[0m\u001b[0;34m\u001b[0m\u001b[0;34m\u001b[0m\u001b[0m\n\u001b[0m",
            "\u001b[0;32m/tmp/ipython-input-3403020152.py\u001b[0m in \u001b[0;36mex4\u001b[0;34m()\u001b[0m\n\u001b[1;32m     50\u001b[0m \u001b[0;31m# Example usage\u001b[0m\u001b[0;34m\u001b[0m\u001b[0;34m\u001b[0m\u001b[0m\n\u001b[1;32m     51\u001b[0m \u001b[0;32mdef\u001b[0m \u001b[0mex4\u001b[0m\u001b[0;34m(\u001b[0m\u001b[0;34m)\u001b[0m\u001b[0;34m:\u001b[0m\u001b[0;34m\u001b[0m\u001b[0;34m\u001b[0m\u001b[0m\n\u001b[0;32m---> 52\u001b[0;31m     \u001b[0mcalculate\u001b[0m\u001b[0;34m(\u001b[0m\u001b[0;34m)\u001b[0m\u001b[0;34m\u001b[0m\u001b[0;34m\u001b[0m\u001b[0m\n\u001b[0m\u001b[1;32m     53\u001b[0m \u001b[0;34m\u001b[0m\u001b[0m\n\u001b[1;32m     54\u001b[0m \u001b[0;31m# Run the function\u001b[0m\u001b[0;34m\u001b[0m\u001b[0;34m\u001b[0m\u001b[0m\n",
            "\u001b[0;32m/tmp/ipython-input-3403020152.py\u001b[0m in \u001b[0;36mcalculate\u001b[0;34m()\u001b[0m\n\u001b[1;32m     10\u001b[0m \u001b[0;34m\u001b[0m\u001b[0m\n\u001b[1;32m     11\u001b[0m     \u001b[0;32mwhile\u001b[0m \u001b[0;32mTrue\u001b[0m\u001b[0;34m:\u001b[0m\u001b[0;34m\u001b[0m\u001b[0;34m\u001b[0m\u001b[0m\n\u001b[0;32m---> 12\u001b[0;31m         \u001b[0mfirst\u001b[0m \u001b[0;34m=\u001b[0m \u001b[0minput\u001b[0m\u001b[0;34m(\u001b[0m\u001b[0;34m\"Enter first number (or 'q' to quit): \"\u001b[0m\u001b[0;34m)\u001b[0m\u001b[0;34m\u001b[0m\u001b[0;34m\u001b[0m\u001b[0m\n\u001b[0m\u001b[1;32m     13\u001b[0m         \u001b[0;32mif\u001b[0m \u001b[0mfirst\u001b[0m\u001b[0;34m.\u001b[0m\u001b[0mlower\u001b[0m\u001b[0;34m(\u001b[0m\u001b[0;34m)\u001b[0m \u001b[0;34m==\u001b[0m \u001b[0;34m'q'\u001b[0m\u001b[0;34m:\u001b[0m\u001b[0;34m\u001b[0m\u001b[0;34m\u001b[0m\u001b[0m\n\u001b[1;32m     14\u001b[0m             \u001b[0;32mbreak\u001b[0m\u001b[0;34m\u001b[0m\u001b[0;34m\u001b[0m\u001b[0m\n",
            "\u001b[0;32m/usr/local/lib/python3.12/dist-packages/ipykernel/kernelbase.py\u001b[0m in \u001b[0;36mraw_input\u001b[0;34m(self, prompt)\u001b[0m\n\u001b[1;32m   1175\u001b[0m                 \u001b[0;34m\"raw_input was called, but this frontend does not support input requests.\"\u001b[0m\u001b[0;34m\u001b[0m\u001b[0;34m\u001b[0m\u001b[0m\n\u001b[1;32m   1176\u001b[0m             )\n\u001b[0;32m-> 1177\u001b[0;31m         return self._input_request(\n\u001b[0m\u001b[1;32m   1178\u001b[0m             \u001b[0mstr\u001b[0m\u001b[0;34m(\u001b[0m\u001b[0mprompt\u001b[0m\u001b[0;34m)\u001b[0m\u001b[0;34m,\u001b[0m\u001b[0;34m\u001b[0m\u001b[0;34m\u001b[0m\u001b[0m\n\u001b[1;32m   1179\u001b[0m             \u001b[0mself\u001b[0m\u001b[0;34m.\u001b[0m\u001b[0m_parent_ident\u001b[0m\u001b[0;34m[\u001b[0m\u001b[0;34m\"shell\"\u001b[0m\u001b[0;34m]\u001b[0m\u001b[0;34m,\u001b[0m\u001b[0;34m\u001b[0m\u001b[0;34m\u001b[0m\u001b[0m\n",
            "\u001b[0;32m/usr/local/lib/python3.12/dist-packages/ipykernel/kernelbase.py\u001b[0m in \u001b[0;36m_input_request\u001b[0;34m(self, prompt, ident, parent, password)\u001b[0m\n\u001b[1;32m   1217\u001b[0m             \u001b[0;32mexcept\u001b[0m \u001b[0mKeyboardInterrupt\u001b[0m\u001b[0;34m:\u001b[0m\u001b[0;34m\u001b[0m\u001b[0;34m\u001b[0m\u001b[0m\n\u001b[1;32m   1218\u001b[0m                 \u001b[0;31m# re-raise KeyboardInterrupt, to truncate traceback\u001b[0m\u001b[0;34m\u001b[0m\u001b[0;34m\u001b[0m\u001b[0m\n\u001b[0;32m-> 1219\u001b[0;31m                 \u001b[0;32mraise\u001b[0m \u001b[0mKeyboardInterrupt\u001b[0m\u001b[0;34m(\u001b[0m\u001b[0;34m\"Interrupted by user\"\u001b[0m\u001b[0;34m)\u001b[0m \u001b[0;32mfrom\u001b[0m \u001b[0;32mNone\u001b[0m\u001b[0;34m\u001b[0m\u001b[0;34m\u001b[0m\u001b[0m\n\u001b[0m\u001b[1;32m   1220\u001b[0m             \u001b[0;32mexcept\u001b[0m \u001b[0mException\u001b[0m\u001b[0;34m:\u001b[0m\u001b[0;34m\u001b[0m\u001b[0;34m\u001b[0m\u001b[0m\n\u001b[1;32m   1221\u001b[0m                 \u001b[0mself\u001b[0m\u001b[0;34m.\u001b[0m\u001b[0mlog\u001b[0m\u001b[0;34m.\u001b[0m\u001b[0mwarning\u001b[0m\u001b[0;34m(\u001b[0m\u001b[0;34m\"Invalid Message:\"\u001b[0m\u001b[0;34m,\u001b[0m \u001b[0mexc_info\u001b[0m\u001b[0;34m=\u001b[0m\u001b[0;32mTrue\u001b[0m\u001b[0;34m)\u001b[0m\u001b[0;34m\u001b[0m\u001b[0;34m\u001b[0m\u001b[0m\n",
            "\u001b[0;31mKeyboardInterrupt\u001b[0m: Interrupted by user"
          ]
        }
      ]
    },
    {
      "cell_type": "code",
      "source": [
        "from pprint import pprint\n",
        "\n",
        "def build_car_list():\n",
        "    car_data_path = \"/content/input (1).txt\"\n",
        "    car_ids_path = \"/content/car-ids.txt\"\n",
        "\n",
        "    cars = []\n",
        "\n",
        "    # Read car mileage data\n",
        "    with open(car_data_path, \"r\") as f:\n",
        "        next(f)  # Skip header line \"CarId, Miles\"\n",
        "        for line in f:\n",
        "            car_id, miles = line.strip().split(\",\")\n",
        "            car_id = int(car_id.strip())\n",
        "            try:\n",
        "                miles = float(miles.strip())\n",
        "            except ValueError:\n",
        "                continue  # Skip bad data lines\n",
        "\n",
        "            # Skip outliers (e.g., non-integer or unusually low mileage)\n",
        "            if miles < 1000:\n",
        "                continue\n",
        "\n",
        "            cars.append({\"id\": car_id, \"miles\": int(miles)})\n",
        "\n",
        "    # Read car models data\n",
        "    id_to_model = {}\n",
        "    with open(car_ids_path, \"r\") as f:\n",
        "        for line in f:\n",
        "            car_id, model = line.strip().split(\",\")\n",
        "            id_to_model[int(car_id.strip())] = model.strip()\n",
        "\n",
        "    # Combine data\n",
        "    final_list = []\n",
        "    for car in cars:\n",
        "        car_id = car[\"id\"]\n",
        "        if car_id in id_to_model:\n",
        "            car[\"model\"] = id_to_model[car_id]\n",
        "            final_list.append(car)\n",
        "\n",
        "    return final_list\n",
        "\n",
        "\n",
        "def ex5():\n",
        "    car_list = build_car_list()\n",
        "    pprint(car_list)\n",
        "\n",
        "\n",
        "# Run the example\n",
        "ex5()\n"
      ],
      "metadata": {
        "colab": {
          "base_uri": "https://localhost:8080/"
        },
        "id": "xVGI1TxaFETw",
        "outputId": "65bff025-ddc0-494e-a081-8485923139bf"
      },
      "execution_count": 21,
      "outputs": [
        {
          "output_type": "stream",
          "name": "stdout",
          "text": [
            "[{'id': 1, 'miles': 10111, 'model': 'Ford'},\n",
            " {'id': 2, 'miles': 30333, 'model': 'Chevy'},\n",
            " {'id': 3, 'miles': 40443, 'model': 'Toyota'},\n",
            " {'id': 5, 'miles': 60000, 'model': 'Nissan'}]\n"
          ]
        }
      ]
    }
  ]
}