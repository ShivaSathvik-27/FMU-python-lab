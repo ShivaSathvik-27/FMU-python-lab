{
  "nbformat": 4,
  "nbformat_minor": 0,
  "metadata": {
    "colab": {
      "provenance": [],
      "authorship_tag": "ABX9TyPhkn+hxsxUOa7fDVBQVD4W",
      "include_colab_link": true
    },
    "kernelspec": {
      "name": "python3",
      "display_name": "Python 3"
    },
    "language_info": {
      "name": "python"
    }
  },
  "cells": [
    {
      "cell_type": "markdown",
      "metadata": {
        "id": "view-in-github",
        "colab_type": "text"
      },
      "source": [
        "<a href=\"https://colab.research.google.com/github/ShivaSathvik-27/FMU-python-lab/blob/main/Exercise_ShivaSathvik.ipynb\" target=\"_parent\"><img src=\"https://colab.research.google.com/assets/colab-badge.svg\" alt=\"Open In Colab\"/></a>"
      ]
    },
    {
      "cell_type": "markdown",
      "source": [
        "Chapter 1 Exercises"
      ],
      "metadata": {
        "id": "jf0RbezJ6NtW"
      }
    },
    {
      "cell_type": "markdown",
      "source": [
        "Exercise 1-1 (hello.py) Use any editor (Notepad, vi, Nano, etc) or IDE to write a \"Hello, world\" python script named hello.py. Run the script from the command line. Open the script in your IDE and run it from there. TIP In PyCharm, you can right-click (Ctrl-click on Mac) the script’s tab and select Run"
      ],
      "metadata": {
        "id": "1hUwojEV6P4b"
      }
    },
    {
      "cell_type": "code",
      "execution_count": 1,
      "metadata": {
        "colab": {
          "base_uri": "https://localhost:8080/"
        },
        "id": "8M4qFf4-6Csj",
        "outputId": "d951e718-1400-4711-bef9-61ff644af16e"
      },
      "outputs": [
        {
          "output_type": "stream",
          "name": "stdout",
          "text": [
            "Hello, world\n"
          ]
        }
      ],
      "source": [
        "print(\"Hello, world\")"
      ]
    },
    {
      "cell_type": "markdown",
      "source": [
        "Exercise 1-2 (spam.py) Use PyCharm (or your favorite IDE) to create a script named spam.py that will output \"SPAM SPAM SPAM!\". Run it from the IDE, and then run it from the command line."
      ],
      "metadata": {
        "id": "4ps8zVHP6fdD"
      }
    },
    {
      "cell_type": "code",
      "source": [
        "a=\"SPAM \"\n",
        "print(a*5)"
      ],
      "metadata": {
        "colab": {
          "base_uri": "https://localhost:8080/"
        },
        "id": "rnEIyKUt6jeE",
        "outputId": "f4eefe45-118f-4b07-d423-c1c5c0d8084d"
      },
      "execution_count": 2,
      "outputs": [
        {
          "output_type": "stream",
          "name": "stdout",
          "text": [
            "SPAM SPAM SPAM SPAM SPAM \n"
          ]
        }
      ]
    },
    {
      "cell_type": "markdown",
      "source": [
        "Chapter 2 Exercises\n",
        "\n",
        "Exercise 2-1 (string_fun.py) Start with the file string_fun.py, which is provided in the top folder of the student files. The variable name is set to \"john jacob jingleheimer schmidt\". Using that variable, • Print name as-is • Print name in upper case • Print name in title case • Print number of occurrences of 'j' in name • Print length of name • Print position (offset) of \"jacob\" in name"
      ],
      "metadata": {
        "id": "BHJ9OvNO6yLO"
      }
    },
    {
      "cell_type": "code",
      "source": [
        "name = \"john jacob jingleheimer schmidt\"\n",
        "print(\"Name :\", name)\n",
        "print(\"Upper case:\", name.upper())\n",
        "print(\"Title case:\", name.title())\n",
        "print(\"Number of 'j's:\", name.count('j'))\n",
        "print(\"Length of name:\", len(name))\n",
        "print(\"Position of 'jacob':\", name.find('jacob'))"
      ],
      "metadata": {
        "colab": {
          "base_uri": "https://localhost:8080/"
        },
        "id": "KPpGT8vv7d3z",
        "outputId": "3c35d8c1-21ca-47cc-e2f0-91de74d445c3"
      },
      "execution_count": 3,
      "outputs": [
        {
          "output_type": "stream",
          "name": "stdout",
          "text": [
            "Name : john jacob jingleheimer schmidt\n",
            "Upper case: JOHN JACOB JINGLEHEIMER SCHMIDT\n",
            "Title case: John Jacob Jingleheimer Schmidt\n",
            "Number of 'j's: 3\n",
            "Length of name: 31\n",
            "Position of 'jacob': 5\n"
          ]
        }
      ]
    },
    {
      "cell_type": "markdown",
      "source": [
        "Exercise 3-1 (c2f.py) Write a Celsius to Fahrenheit converter. Your script should prompt the user for a Celsius temperature, the print out the Fahrenheit equivalent. What the user types: python c2f.py (or run from PyCharm/Spyder etc) The program prompts the user, and the user enters the temperature to be converted. The formula is F = ((9 * C) / 5 ) + 32. Be sure to convert the user-entered value into a float. Test your script with the following values: 100, 0, 37, -40"
      ],
      "metadata": {
        "id": "po6ck_2_7i7P"
      }
    },
    {
      "cell_type": "code",
      "source": [
        "celsius = float(input(\"Enter temperature in Celsius: \"))\n",
        "fahrenheit = ((9 * celsius) / 5) + 32\n",
        "print(f\"{celsius} Celsius is equal to {fahrenheit} Fahrenheit.\")"
      ],
      "metadata": {
        "id": "kF5_gWFn7mLz"
      },
      "execution_count": null,
      "outputs": []
    },
    {
      "cell_type": "markdown",
      "source": [
        "Exercise 3-2 (c2f_batch.py) Create another C to F converter. This time, your script should take the Celsius temperature from the command line and output the Fahrenheit value. What you will type: python c2f_batch.py 100 (or run from PyCharm/Spyder etc) Test with the values from c2f.py. These two programs should be identical, except for the input."
      ],
      "metadata": {
        "id": "TkuxUvug7sMe"
      }
    },
    {
      "cell_type": "code",
      "source": [
        "import sys\n",
        "\n",
        "def c2f_cmd(argv=None):\n",
        "    argv = sys.argv if argv is None else argv\n",
        "    if len(argv) < 2:\n",
        "        print(\"Usage: c2f_batch.py <Celsius>\")\n",
        "        return\n",
        "    c = float(argv[1])\n",
        "    print(((9 * c) / 5) + 32)\n",
        "\n",
        "c2f_cmd([\"c2f_batch.py\", \"32\"])"
      ],
      "metadata": {
        "colab": {
          "base_uri": "https://localhost:8080/"
        },
        "id": "J_nRrhe67uuc",
        "outputId": "1011d095-4b26-4444-aae5-0e78dd7160aa"
      },
      "execution_count": 4,
      "outputs": [
        {
          "output_type": "stream",
          "name": "stdout",
          "text": [
            "89.6\n"
          ]
        }
      ]
    },
    {
      "cell_type": "markdown",
      "source": [
        "Exercise 4-1 (c2f_loop.py) Redo c2f.py to repeatedly prompt the user for a Celsius temperature to convert to Fahrenheit and then print. If the user just presses Return, go back to the top of the loop. Quit when the user enters \"q\". TIP Read in the temperature, test for \"q\" or \"\", and only then convert the temperature to a float."
      ],
      "metadata": {
        "id": "yDU2O2kF7yNp"
      }
    },
    {
      "cell_type": "code",
      "source": [
        "while True:\n",
        "    temp = input(\"Enter temperature in Celsius: \")\n",
        "    if temp.lower() == 'q':\n",
        "        print(\"Exiting the converter.\")\n",
        "        break\n",
        "    elif temp == '':\n",
        "        continue\n",
        "    celsius = float(temp)\n",
        "    fahrenheit = ((9 * celsius) / 5) + 32\n",
        "    print(f\"{celsius} Celsius is equal to {fahrenheit} Fahrenheit.\")"
      ],
      "metadata": {
        "colab": {
          "base_uri": "https://localhost:8080/"
        },
        "id": "T9cGY97Z7019",
        "outputId": "3831a9cb-1e71-4815-ed32-70326bcdfc4a"
      },
      "execution_count": 6,
      "outputs": [
        {
          "output_type": "stream",
          "name": "stdout",
          "text": [
            "Enter temperature in Celsius: 28\n",
            "28.0 Celsius is equal to 82.4 Fahrenheit.\n",
            "Enter temperature in Celsius: q\n",
            "Exiting the converter.\n"
          ]
        }
      ]
    },
    {
      "cell_type": "markdown",
      "source": [
        "Exercise 4-2 (guess.py) Write a guessing game program. You will think of a number from 1 to 25, and the computer will guess until it figures out the number. Each time, the computer will ask \"Is this your number? \"; You will enter \"l\" for too low, \"h\" for too high, or \"y\" when the computer has got it. Print appropriate prompts and responses. TIP"
      ],
      "metadata": {
        "id": "qM9PiRBB8BeM"
      }
    },
    {
      "cell_type": "code",
      "source": [
        "max_val = 26\n",
        "min_val = 0\n",
        "\n",
        "while True:\n",
        "    guess = (max_val + min_val) // 2\n",
        "    answer = input(f\"Is this your number? {guess} (enter 'l' for too low, 'h' for too high, 'y' for yes): \")\n",
        "\n",
        "    if answer.lower() == 'y':\n",
        "        print(\"I got it!\")\n",
        "        break\n",
        "    elif answer.lower() == 'h':\n",
        "        max_val = guess\n",
        "    elif answer.lower() == 'l':\n",
        "        min_val = guess\n",
        "    else:\n",
        "        print(\"Please enter 'l', 'h', or 'y'.\")"
      ],
      "metadata": {
        "colab": {
          "base_uri": "https://localhost:8080/"
        },
        "id": "pnzcgFI08E4b",
        "outputId": "e6c1f31a-29d8-4c36-ff8b-00d5490aed9f"
      },
      "execution_count": 7,
      "outputs": [
        {
          "output_type": "stream",
          "name": "stdout",
          "text": [
            "Is this your number? 13 (enter 'l' for too low, 'h' for too high, 'y' for yes): n\n",
            "Please enter 'l', 'h', or 'y'.\n",
            "Is this your number? 13 (enter 'l' for too low, 'h' for too high, 'y' for yes): y\n",
            "I got it!\n"
          ]
        }
      ]
    },
    {
      "cell_type": "markdown",
      "source": [
        "Chapter 5 Exercises\n",
        "\n",
        "Exercise 5-1 (pow2.py) Print out all the powers of 2 from 0 through 31. Use the ** operator, which raises a number to a power."
      ],
      "metadata": {
        "id": "pp5JXnYX8LUo"
      }
    },
    {
      "cell_type": "code",
      "source": [
        "for i in range(0, 32):\n",
        "    print(f\"5^{i} = {5**i}\")"
      ],
      "metadata": {
        "colab": {
          "base_uri": "https://localhost:8080/"
        },
        "id": "Ci-R64vP8N62",
        "outputId": "a11318a0-9faf-499d-841b-6fa047cbefe5"
      },
      "execution_count": 8,
      "outputs": [
        {
          "output_type": "stream",
          "name": "stdout",
          "text": [
            "5^0 = 1\n",
            "5^1 = 5\n",
            "5^2 = 25\n",
            "5^3 = 125\n",
            "5^4 = 625\n",
            "5^5 = 3125\n",
            "5^6 = 15625\n",
            "5^7 = 78125\n",
            "5^8 = 390625\n",
            "5^9 = 1953125\n",
            "5^10 = 9765625\n",
            "5^11 = 48828125\n",
            "5^12 = 244140625\n",
            "5^13 = 1220703125\n",
            "5^14 = 6103515625\n",
            "5^15 = 30517578125\n",
            "5^16 = 152587890625\n",
            "5^17 = 762939453125\n",
            "5^18 = 3814697265625\n",
            "5^19 = 19073486328125\n",
            "5^20 = 95367431640625\n",
            "5^21 = 476837158203125\n",
            "5^22 = 2384185791015625\n",
            "5^23 = 11920928955078125\n",
            "5^24 = 59604644775390625\n",
            "5^25 = 298023223876953125\n",
            "5^26 = 1490116119384765625\n",
            "5^27 = 7450580596923828125\n",
            "5^28 = 37252902984619140625\n",
            "5^29 = 186264514923095703125\n",
            "5^30 = 931322574615478515625\n",
            "5^31 = 4656612873077392578125\n"
          ]
        }
      ]
    },
    {
      "cell_type": "markdown",
      "source": [
        "Exercise 5-2 (sequences.py) ctemps is a list of Celsius temperatures. Loop through ctemps, convert each temperature to Fahrenheit, and print out both temperatures"
      ],
      "metadata": {
        "id": "zhNE9L_R8RBe"
      }
    },
    {
      "cell_type": "code",
      "source": [
        "file_path = \"/content/shiva.txt\"\n",
        "celtemps = []\n",
        "current_list = None\n",
        "\n",
        "with open(file_path, 'r') as f:\n",
        "    for line in f:\n",
        "        line = line.strip()\n",
        "        if line == '':\n",
        "            continue\n",
        "        if line.startswith('# ctemps'):\n",
        "            current_list = 'celtemps'\n",
        "            continue\n",
        "        elif line.startswith('# fruits'):\n",
        "            current_list = None\n",
        "            continue\n",
        "        if current_list == 'celtemps':\n",
        "            celtemps.append(int(line))\n",
        "\n",
        "print(\"Celsius to Fahrenheit:\")\n",
        "for c in celtemps:\n",
        "    f_temp = ((9 * c) / 5) + 32\n",
        "    print(f\"{c} Celsius = {f_temp} Fahrenheit\")\n"
      ],
      "metadata": {
        "colab": {
          "base_uri": "https://localhost:8080/"
        },
        "id": "pgiQJ5aT8TtX",
        "outputId": "95ccd9b1-e78f-4bf9-b3c4-e2764b9cd28d"
      },
      "execution_count": 30,
      "outputs": [
        {
          "output_type": "stream",
          "name": "stdout",
          "text": [
            "Celsius to Fahrenheit:\n",
            "0 Celsius = 32.0 Fahrenheit\n",
            "20 Celsius = 68.0 Fahrenheit\n",
            "37 Celsius = 98.6 Fahrenheit\n",
            "100 Celsius = 212.0 Fahrenheit\n",
            "-40 Celsius = -40.0 Fahrenheit\n"
          ]
        }
      ]
    },
    {
      "cell_type": "markdown",
      "source": [
        "Exercise 5-3 (sequences.py) Use a list comprehension to copy the list fruits to a new list named clean_fruits, with all fruits in lower case and leading/trailing white space removed. Print out the new list. HINT: Use chained methods (x.spam().ham())"
      ],
      "metadata": {
        "id": "-jC_UdSlB5HN"
      }
    },
    {
      "cell_type": "code",
      "source": [
        "file_path = \"/content/shiva.txt\"\n",
        "fruits = []\n",
        "current_list = None\n",
        "\n",
        "with open(file_path, 'r') as f:\n",
        "    for line in f:\n",
        "        line = line.strip()\n",
        "        if line == '':\n",
        "            continue\n",
        "        if line.startswith('# fruits'):\n",
        "            current_list = 'fruits'\n",
        "            continue\n",
        "        elif line.startswith('# ctemps'):\n",
        "            current_list = None\n",
        "            continue\n",
        "        if current_list == 'fruits':\n",
        "            fruits.append(line)\n",
        "\n",
        "clean_fruits = [x.strip().lower() for x in fruits]\n",
        "print(clean_fruits)"
      ],
      "metadata": {
        "colab": {
          "base_uri": "https://localhost:8080/"
        },
        "id": "fz6JboijB8aG",
        "outputId": "46d0ddb4-c07b-438c-9937-4fc9ed8fb61e"
      },
      "execution_count": 32,
      "outputs": [
        {
          "output_type": "stream",
          "name": "stdout",
          "text": [
            "['pomegranate', 'cherry', 'apricot', 'date', 'apple', 'lemon', 'kiwi']\n"
          ]
        }
      ]
    },
    {
      "cell_type": "markdown",
      "source": [
        "Exercise 5-4 (sieve.py) FOR ADVANCED STUDENTS The \"Sieve of Eratosthenes\" is an ancient algorithm for finding prime numbers. It works by starting at 2 and checking each number up to a specified limit. If the number has been marked as non-prime, it is skipped. Otherwise, it is prime, so it is output, and all its multiples are marked as non-prime. Write a program to implement this algorithm. Specify the limit (the highest number to check) on the script’s command line. Supply a default if no limit is specified. Initialize a list (maybe named is_prime) to the size of the limit plus one (use * to multiply a single-item list). All elements should be set to True. Use two nested loops. The outer loop will check each value (element of the array) from 2 to the upper limit. (use the range()) function. If the element has a True value (is prime), print out its value. Then, execute a second loop iterates through all the multiples of the number, and marks them as False (i.e., non-prime). No action is needed if the value is False. This will skip the non-prime numbers. TIP Use range() to generate the multiples of the current number. NOTE In this exercise, the value of the element is either True or False — the index is the number be checked for primeness. See next page for the pseudocode for this program:"
      ],
      "metadata": {
        "id": "QXCj5hJ-CCAJ"
      }
    },
    {
      "cell_type": "code",
      "source": [
        "import sys\n",
        "\n",
        "if len(sys.argv) > 1 and sys.argv[1].isdigit():\n",
        "    limit = int(sys.argv[20])\n",
        "else:\n",
        "    limit = 50\n",
        "\n",
        "is_prime = [True] * (limit + 1)\n",
        "\n",
        "for n in range(2, limit + 1):\n",
        "    if is_prime[n]:\n",
        "        print(n)\n",
        "        for m in range(n * 2, limit + 1, n):\n",
        "            is_prime[m] = False"
      ],
      "metadata": {
        "colab": {
          "base_uri": "https://localhost:8080/"
        },
        "id": "IytWjVstCGYn",
        "outputId": "162867af-7c6c-459b-f8e7-e70a23aa8e54"
      },
      "execution_count": 33,
      "outputs": [
        {
          "output_type": "stream",
          "name": "stdout",
          "text": [
            "2\n",
            "3\n",
            "5\n",
            "7\n",
            "11\n",
            "13\n",
            "17\n",
            "19\n",
            "23\n",
            "29\n",
            "31\n",
            "37\n",
            "41\n",
            "43\n",
            "47\n"
          ]
        }
      ]
    },
    {
      "cell_type": "markdown",
      "source": [
        "Exercise 6-1 (line_no.py) Write a program to display each line of a file preceded by the line number. Allow your program to process one or more files specified on the command line. Be sure to reset the line number for each file. TIP Use enumerate(). Test with the following commands: python line_no.py DATA/tyger.txt python line_no.py DATA/parrot.txt DATA/tyger.txt Test with other files, as desired"
      ],
      "metadata": {
        "id": "BMLN3QKhCKKv"
      }
    },
    {
      "cell_type": "code",
      "source": [
        "file_paths = [\n",
        "    \"/content/sai.txt\",\n",
        "    \"/content/hlo.txt\"\n",
        "]\n",
        "\n",
        "for filename in file_paths:\n",
        "    print(f\"\\nProcessing file: {filename}\")\n",
        "    with open(filename, 'r') as file:\n",
        "        for lineno, line in enumerate(file, start=0):\n",
        "            print(f\"{lineno}: {line.rstrip()}\")"
      ],
      "metadata": {
        "colab": {
          "base_uri": "https://localhost:8080/"
        },
        "id": "LKxxK6xwCNDd",
        "outputId": "946b0b34-5f0f-4789-97db-8ab32f54b07a"
      },
      "execution_count": 34,
      "outputs": [
        {
          "output_type": "stream",
          "name": "stdout",
          "text": [
            "\n",
            "Processing file: /content/sai.txt\n",
            "0: Orange is sweet\n",
            "1: Grapes are green\n",
            "2: Elephant is huge\n",
            "3: Bird is singing\n",
            "4: Crocodile lives on land and water\n",
            "5: Kite is colorful\n",
            "\n",
            "Processing file: /content/hlo.txt\n",
            "0: Alice followed the rabbit down the hole and found herself falling.\n",
            "1: She tried to remember how many miles down she had fallen.\n",
            "2: Down, down, down. Would the fall never come to an end?\n",
            "3: Alice began to think she must be getting very far underground.\n",
            "4: Suddenly, thump! Down she came upon a heap of sticks and dry leaves.\n",
            "5: The fall was over at last, and she looked around in wonder.\n",
            "6: Before her was a long, low hall, lit up by a row of lamps hanging from the roof.\n"
          ]
        }
      ]
    },
    {
      "cell_type": "markdown",
      "source": [
        "Exercise 6-2 (alt_lines.py) Write a program to create two files, a.txt and b.txt from the file alt.txt. Lines that start with 'a' go in a.txt; the other lines (which all start with 'b') go in b.txt. Compare the original to the two new files."
      ],
      "metadata": {
        "id": "cyvv9ZXqC3a4"
      }
    },
    {
      "cell_type": "code",
      "source": [
        "file_path = \"/content/ilu.txt\"\n",
        "file_path1 = \"/content/a.txt\"\n",
        "file_path2 = \"/content/b.txt\"\n",
        "with open(file_path, 'r') as infile:\n",
        "    with open(file_path1, 'w') as a_file, open(file_path2, 'w') as b_file:\n",
        "        for line in infile:\n",
        "            line = line.strip()\n",
        "            if line.startswith('a') or line.startswith('A'):\n",
        "                a_file.write(line + '\\n')\n",
        "            elif line.startswith('b') or line.startswith('B'):\n",
        "                b_file.write(line + '\\n')\n",
        "\n",
        "print(\"Contents of alt.txt:\")\n",
        "with open(file_path, 'r') as file:\n",
        "    print(file.read())\n",
        "\n",
        "print(\"\\nContents of a.txt:\")\n",
        "with open(file_path1, 'r') as file:\n",
        "    print(file.read())\n",
        "\n",
        "print(\"\\nContents of b.txt:\")\n",
        "with open(file_path2, 'r') as file:\n",
        "    print(file.read())\n"
      ],
      "metadata": {
        "colab": {
          "base_uri": "https://localhost:8080/"
        },
        "id": "uyGadPChC_D_",
        "outputId": "2adde24b-a011-47c9-ee2b-e46a146b2d69"
      },
      "execution_count": 35,
      "outputs": [
        {
          "output_type": "stream",
          "name": "stdout",
          "text": [
            "Contents of alt.txt:\n",
            "Apple shines like a ruby in the sun.\n",
            "Banana wears a bright yellow smile.\n",
            "Ant is tiny but mighty.\n",
            "Bat dances through the moonlight sky.\n",
            "Alligator rules the rivers like a king.\n",
            "Ball rolls with endless excitement.\n",
            "\n",
            "Contents of a.txt:\n",
            "Apple shines like a ruby in the sun.\n",
            "Ant is tiny but mighty.\n",
            "Alligator rules the rivers like a king.\n",
            "\n",
            "\n",
            "Contents of b.txt:\n",
            "Banana wears a bright yellow smile.\n",
            "Bat dances through the moonlight sky.\n",
            "Ball rolls with endless excitement.\n",
            "\n"
          ]
        }
      ]
    },
    {
      "cell_type": "markdown",
      "source": [
        "Exercise 6-3 (count_alice.py, count_words.py) A. Write a program to count how many lines of alice.txt contain the word \"Alice\". (There should be 392). TIP Use the in operator to test whether a line contains the word \"Alice\""
      ],
      "metadata": {
        "id": "Zsha0M4wDiTZ"
      }
    },
    {
      "cell_type": "code",
      "source": [
        "file_path = \"/content/bollu.txt\"\n",
        "with open(file_path, 'r') as file:\n",
        "    count = 0\n",
        "    for line in file:\n",
        "        if 'Alice' in line:\n",
        "            count += 1\n",
        "\n",
        "print(f'The word \"Alice\" appears in {count} lines.')"
      ],
      "metadata": {
        "colab": {
          "base_uri": "https://localhost:8080/"
        },
        "id": "TdEy9hT-DlFI",
        "outputId": "8c9d3964-bae3-4c00-c71c-8f3fd9e2fdd3"
      },
      "execution_count": 36,
      "outputs": [
        {
          "output_type": "stream",
          "name": "stdout",
          "text": [
            "The word \"Alice\" appears in 3 lines.\n"
          ]
        }
      ]
    },
    {
      "cell_type": "markdown",
      "source": [
        "B. Modify count_alice.py to take the first command line parameter as a word to find, and the remaining parameters as filenames. For each file, print out the file name and the number of lines that contain the specified word. Test thoroughly FOR ADVANCED STUDENTS (icount_words.py) Modify count_words.py to make the search case- insensitive"
      ],
      "metadata": {
        "id": "so2ugLNcDz3n"
      }
    },
    {
      "cell_type": "code",
      "source": [
        "search_word = input(\"Enter the word to search for: \").strip().lower()\n",
        "\n",
        "file_paths = [\n",
        "    \"/content/bollu.txt\",\n",
        "    \"/content/hlo.txt\"\n",
        "]\n",
        "\n",
        "for filename in file_paths:\n",
        "    with open(filename, 'r') as file:\n",
        "        count = 0\n",
        "        for line in file:\n",
        "            if search_word in line.lower():\n",
        "                count += 1\n",
        "    print(f\"{filename}: {count} lines contain the word '{search_word}'\")"
      ],
      "metadata": {
        "colab": {
          "base_uri": "https://localhost:8080/"
        },
        "id": "Lk3fLROpD0fs",
        "outputId": "daa81652-f955-410f-f128-966fd9a0da1c"
      },
      "execution_count": 38,
      "outputs": [
        {
          "output_type": "stream",
          "name": "stdout",
          "text": [
            "Enter the word to search for: alice\n",
            "/content/bollu.txt: 3 lines contain the word 'alice'\n",
            "/content/hlo.txt: 2 lines contain the word 'alice'\n"
          ]
        }
      ]
    },
    {
      "cell_type": "markdown",
      "source": [
        "Exercise 7-1 (file_date.py) Write a script which accepts one or more filenames on the command line, and prints out each file name with its date of last modification in the format 'Mar 12, 2013'."
      ],
      "metadata": {
        "id": "-QWkJjCzEGQZ"
      }
    },
    {
      "cell_type": "code",
      "source": [
        "import os\n",
        "from datetime import datetime\n",
        "\n",
        "file_paths = [\n",
        "    \"/content/bollu.txt\",\n",
        "    \"/content/fruit2.txt\",\n",
        "    \"/content/sample_data\"\n",
        "]\n",
        "\n",
        "for filename in file_paths:\n",
        "    mod_time = os.path.getmtime(filename)\n",
        "    dt = datetime.fromtimestamp(mod_time)\n",
        "    formatted_date = dt.strftime('%b %d, %Y')\n",
        "    print(f\"{filename}: {formatted_date}\")"
      ],
      "metadata": {
        "colab": {
          "base_uri": "https://localhost:8080/"
        },
        "id": "XbK6UUSfEJO3",
        "outputId": "d8c19cbe-f15f-461f-cb35-0c9a11567802"
      },
      "execution_count": 39,
      "outputs": [
        {
          "output_type": "stream",
          "name": "stdout",
          "text": [
            "/content/bollu.txt: Oct 26, 2025\n",
            "/content/fruit2.txt: Oct 26, 2025\n",
            "/content/sample_data: Oct 23, 2025\n"
          ]
        }
      ]
    },
    {
      "cell_type": "markdown",
      "source": [
        "Exercise 7-2 (get_file_size.py) Write a script that accepts one or more files on the command line, and prints out the size, one file per line. If any argument is a directory, print out a warning message."
      ],
      "metadata": {
        "id": "Yth7wZlsEnDY"
      }
    },
    {
      "cell_type": "code",
      "source": [
        "import os\n",
        "\n",
        "file_paths = [\n",
        "    \"/content/bollu.txt\",\n",
        "    \"/content/ilu.txt\",\n",
        "    \"/bin\"\n",
        "]\n",
        "\n",
        "for filename in file_paths:\n",
        "    if os.path.isdir(filename):\n",
        "        print(f\"Warning: {filename} is a directory\")\n",
        "    elif os.path.isfile(filename):\n",
        "        size = os.path.getsize(filename)\n",
        "        print(f\"{filename}: {size} bytes\")\n",
        "    else:\n",
        "        print(f\"Error: {filename} not found\")"
      ],
      "metadata": {
        "colab": {
          "base_uri": "https://localhost:8080/"
        },
        "id": "b6TvmRXdEqKC",
        "outputId": "28d68d4d-ab04-41c5-d78d-9adad3093f5d"
      },
      "execution_count": 41,
      "outputs": [
        {
          "output_type": "stream",
          "name": "stdout",
          "text": [
            "/content/bollu.txt: 993 bytes\n",
            "/content/ilu.txt: 210 bytes\n",
            "Warning: /bin is a directory\n"
          ]
        }
      ]
    },
    {
      "cell_type": "markdown",
      "source": [
        "Exercise 7-3 (for_usage.py) Write a script to count how many times a for loop is used in all .py files under py3intro (the top folder of the student files)."
      ],
      "metadata": {
        "id": "wffeG3_cE-f4"
      }
    },
    {
      "cell_type": "code",
      "source": [
        "import os\n",
        "\n",
        "base_dir = '/content/sample_data/for.txt'\n",
        "\n",
        "total_for_count = 0\n",
        "\n",
        "for root, dirs, files in os.walk(base_dir):\n",
        "    for file in files:\n",
        "        if file.endswith('.py'):\n",
        "            file_path = os.path.join(root, file)\n",
        "            file_for_count = 0\n",
        "            with open(file_path, 'r') as f:\n",
        "                for line in f:\n",
        "                    line_strip = line.strip()\n",
        "                    if line_strip.startswith('for '):\n",
        "                        file_for_count += 1\n",
        "                        total_for_count += 1\n",
        "            print(f\"{file_path}: {file_for_count} 'for' loops\")\n",
        "\n",
        "print(f\"\\nTotal 'for' loops found: {total_for_count}\")"
      ],
      "metadata": {
        "colab": {
          "base_uri": "https://localhost:8080/"
        },
        "id": "7ga9UdhUFDSG",
        "outputId": "938dc453-ac2a-4650-ded9-dab4b8469254"
      },
      "execution_count": 46,
      "outputs": [
        {
          "output_type": "stream",
          "name": "stdout",
          "text": [
            "\n",
            "Total 'for' loops found: 0\n"
          ]
        }
      ]
    },
    {
      "cell_type": "markdown",
      "source": [
        "Exercise 7-4 (copy_pfiles.py) Write a script to copy all files that start with 'p' from the DATA folder into the TEMP folder. TIP use shutil"
      ],
      "metadata": {
        "id": "-YaDtGEeGHYu"
      }
    },
    {
      "cell_type": "code",
      "source": [
        "import os\n",
        "import shutil\n",
        "\n",
        "source_dir = '/content/sample_data/for.txt'\n",
        "dest_dir = '/content/TEMP'\n",
        "\n",
        "os.makedirs(dest_dir, exist_ok=True)\n",
        "\n",
        "for filename in os.listdir(source_dir):\n",
        "    src_file = os.path.join(source_dir, filename)\n",
        "    dst_file = os.path.join(dest_dir, filename)\n",
        "    if os.path.isfile(src_file) and filename.lower().startswith('p'):\n",
        "        shutil.copy2(src_file, dst_file)\n",
        "        print(f\"Copied {filename} to TEMP\")"
      ],
      "metadata": {
        "colab": {
          "base_uri": "https://localhost:8080/",
          "height": 207
        },
        "id": "rH_QPAs7GKpR",
        "outputId": "93305f3c-3eaf-4187-d12d-a4146d9524da"
      },
      "execution_count": 49,
      "outputs": [
        {
          "output_type": "error",
          "ename": "FileNotFoundError",
          "evalue": "[Errno 2] No such file or directory: '/content/sample_data/for.txt'",
          "traceback": [
            "\u001b[0;31m---------------------------------------------------------------------------\u001b[0m",
            "\u001b[0;31mFileNotFoundError\u001b[0m                         Traceback (most recent call last)",
            "\u001b[0;32m/tmp/ipython-input-1641701248.py\u001b[0m in \u001b[0;36m<cell line: 0>\u001b[0;34m()\u001b[0m\n\u001b[1;32m      7\u001b[0m \u001b[0mos\u001b[0m\u001b[0;34m.\u001b[0m\u001b[0mmakedirs\u001b[0m\u001b[0;34m(\u001b[0m\u001b[0mdest_dir\u001b[0m\u001b[0;34m,\u001b[0m \u001b[0mexist_ok\u001b[0m\u001b[0;34m=\u001b[0m\u001b[0;32mTrue\u001b[0m\u001b[0;34m)\u001b[0m\u001b[0;34m\u001b[0m\u001b[0;34m\u001b[0m\u001b[0m\n\u001b[1;32m      8\u001b[0m \u001b[0;34m\u001b[0m\u001b[0m\n\u001b[0;32m----> 9\u001b[0;31m \u001b[0;32mfor\u001b[0m \u001b[0mfilename\u001b[0m \u001b[0;32min\u001b[0m \u001b[0mos\u001b[0m\u001b[0;34m.\u001b[0m\u001b[0mlistdir\u001b[0m\u001b[0;34m(\u001b[0m\u001b[0msource_dir\u001b[0m\u001b[0;34m)\u001b[0m\u001b[0;34m:\u001b[0m\u001b[0;34m\u001b[0m\u001b[0;34m\u001b[0m\u001b[0m\n\u001b[0m\u001b[1;32m     10\u001b[0m     \u001b[0msrc_file\u001b[0m \u001b[0;34m=\u001b[0m \u001b[0mos\u001b[0m\u001b[0;34m.\u001b[0m\u001b[0mpath\u001b[0m\u001b[0;34m.\u001b[0m\u001b[0mjoin\u001b[0m\u001b[0;34m(\u001b[0m\u001b[0msource_dir\u001b[0m\u001b[0;34m,\u001b[0m \u001b[0mfilename\u001b[0m\u001b[0;34m)\u001b[0m\u001b[0;34m\u001b[0m\u001b[0;34m\u001b[0m\u001b[0m\n\u001b[1;32m     11\u001b[0m     \u001b[0mdst_file\u001b[0m \u001b[0;34m=\u001b[0m \u001b[0mos\u001b[0m\u001b[0;34m.\u001b[0m\u001b[0mpath\u001b[0m\u001b[0;34m.\u001b[0m\u001b[0mjoin\u001b[0m\u001b[0;34m(\u001b[0m\u001b[0mdest_dir\u001b[0m\u001b[0;34m,\u001b[0m \u001b[0mfilename\u001b[0m\u001b[0;34m)\u001b[0m\u001b[0;34m\u001b[0m\u001b[0;34m\u001b[0m\u001b[0m\n",
            "\u001b[0;31mFileNotFoundError\u001b[0m: [Errno 2] No such file or directory: '/content/sample_data/for.txt'"
          ]
        }
      ]
    },
    {
      "cell_type": "markdown",
      "source": [
        "Exercise 8-1 (scores.py) A class of students has taken a test. Their scores have been stored in testscores.dat. Write a program named scores.py to read in the data (read it into a dictionary where the keys are the student names and the values are the test scores). Print out the student names, one per line, sorted, and with the numeric score and letter grade. After printing all the scores, print the average score. TIP Be sure to convert the numeric score to an integer when storing it in the dictionary. Table 20. Grading Scale 95-100 A 89-94 B 83-88 C 75-82 D < 75 F"
      ],
      "metadata": {
        "id": "bDe5m1PmGpMU"
      }
    },
    {
      "cell_type": "code",
      "source": [
        "def get_grade(score):\n",
        "    if score >= 95:\n",
        "        return 'A'\n",
        "    elif score >= 89:\n",
        "        return 'B'\n",
        "    elif score >= 83:\n",
        "        return 'C'\n",
        "    elif score >= 75:\n",
        "        return 'D'\n",
        "    else:\n",
        "        return 'F'\n",
        "\n",
        "scores = {}\n",
        "\n",
        "file_path = \"/content/score.txt\"\n",
        "with open(file_path, 'r') as f:\n",
        "    for line in f:\n",
        "        parts = line.strip().split()\n",
        "        if len(parts) == 2:\n",
        "            name, score = parts\n",
        "            scores[name] = int(score)\n",
        "\n",
        "print(\"Name\\tScore\\tGrade\")\n",
        "for name in sorted(scores.keys()):\n",
        "    score = scores[name]\n",
        "    grade = get_grade(score)\n",
        "    print(f\"{name}\\t{score}\\t{grade}\")\n",
        "\n",
        "avg_score = sum(scores.values()) / len(scores)\n",
        "print(f\"\\nAverage Score: {avg_score:.2f}\")"
      ],
      "metadata": {
        "colab": {
          "base_uri": "https://localhost:8080/"
        },
        "id": "yL78yXfpGqGn",
        "outputId": "db8b7c20-ca04-456b-baab-aab67f827797"
      },
      "execution_count": 50,
      "outputs": [
        {
          "output_type": "stream",
          "name": "stdout",
          "text": [
            "Name\tScore\tGrade\n",
            "Ananya\t65\tF\n",
            "Arjun\t94\tB\n",
            "Kiran\t76\tD\n",
            "Lakshmi\t73\tF\n",
            "Meera\t89\tB\n",
            "Priya\t81\tD\n",
            "Rahul\t100\tA\n",
            "Ravi\t92\tB\n",
            "Sai\t88\tC\n",
            "Shiva\t97\tA\n",
            "\n",
            "Average Score: 85.50\n"
          ]
        }
      ]
    },
    {
      "cell_type": "markdown",
      "source": [
        "Exercise 8-2 (shell_users.py) Using the file named passwd, write a program to count the number of users using each shell. To do this, read passwd one line at a time. Split each line into its seven (colon-delimited) fields. The shell is the last field. For each entry, add one to the dictionary element whose key is the shell. When finished reading the password file, loop through the keys of the dictionary, printing out the shell and the count."
      ],
      "metadata": {
        "id": "RrK3n2g2G914"
      }
    },
    {
      "cell_type": "code",
      "source": [
        "file_path = \"/content/pass.txt\"\n",
        "shell_count = {}\n",
        "with open(file_path, 'r') as file:\n",
        "    for line in file:\n",
        "        line = line.strip()\n",
        "        if not line or line.startswith('#'):\n",
        "            continue\n",
        "        fields = line.split(':')\n",
        "        if len(fields) < 7:\n",
        "            continue\n",
        "        shell = fields[-1]\n",
        "        shell_count[shell] = shell_count.get(shell, 0) + 1\n",
        "\n",
        "for shell, count in shell_count.items():\n",
        "    print(f\"{shell}: {count}\")\n"
      ],
      "metadata": {
        "colab": {
          "base_uri": "https://localhost:8080/"
        },
        "id": "Nnu6kvcfG_54",
        "outputId": "fe1009bd-20a5-4777-f554-26863abb8577"
      },
      "execution_count": 51,
      "outputs": [
        {
          "output_type": "stream",
          "name": "stdout",
          "text": [
            "/bin/bash: 2\n",
            "/usr/sbin/nologin: 5\n",
            "/bin/sync: 1\n",
            "/bin/sh: 1\n"
          ]
        }
      ]
    },
    {
      "cell_type": "markdown",
      "source": [
        "Exercise 8-3 (common_fruit.py) Using sets, compute which fruits are in both fruit1.txt and fruit2.txt. To do this, read the files into sets (the files contain one fruit per line) and find the intersection of the sets. What if fruits are in both files, but one is capitalized and the other isn’t?"
      ],
      "metadata": {
        "id": "oJECcno1HOkz"
      }
    },
    {
      "cell_type": "code",
      "source": [
        "def read_fruits(filename):\n",
        "    with open(filename, 'r') as f:\n",
        "        return set(line.strip().lower() for line in f)\n",
        "\n",
        "fruits1 = read_fruits('fruit1.txt')\n",
        "fruits2 = read_fruits('fruit2.txt')\n",
        "\n",
        "common_fruits = fruits1 & fruits2\n",
        "\n",
        "print(\"Fruits in both files:\")\n",
        "for fruit in sorted(common_fruits):\n",
        "    print(fruit)\n"
      ],
      "metadata": {
        "colab": {
          "base_uri": "https://localhost:8080/"
        },
        "id": "kZ2M-rv1HPHm",
        "outputId": "4f365a5f-300d-414d-d4bc-f0e2cb2ecf33"
      },
      "execution_count": 52,
      "outputs": [
        {
          "output_type": "stream",
          "name": "stdout",
          "text": [
            "Fruits in both files:\n",
            "apple\n",
            "banana\n",
            "date\n"
          ]
        }
      ]
    },
    {
      "cell_type": "markdown",
      "source": [
        "Exercise 8-4 (set_sieve.py) FOR ADVANCED STUDENTS Rewrite sieve.py to use a set rather than a list to keep track of which numbers are non-prime. This turns out to be easier – you don’t have to initialize the set, as you did with the list"
      ],
      "metadata": {
        "id": "XC_V_8Y0Hs2L"
      }
    },
    {
      "cell_type": "code",
      "source": [
        "limit = 50\n",
        "non_primes = set()\n",
        "primes = []\n",
        "\n",
        "for num in range(2, limit + 1):\n",
        "    if num not in non_primes:\n",
        "        primes.append(num)\n",
        "        for multiple in range(num * 2, limit + 1, num):\n",
        "            non_primes.add(multiple)\n",
        "\n",
        "print(\"Primes up to\", limit, \":\")\n",
        "print(primes)"
      ],
      "metadata": {
        "colab": {
          "base_uri": "https://localhost:8080/"
        },
        "id": "rlILueJ5HvYY",
        "outputId": "fcd2e50d-43a1-436d-a857-5cdd800cacee"
      },
      "execution_count": 53,
      "outputs": [
        {
          "output_type": "stream",
          "name": "stdout",
          "text": [
            "Primes up to 50 :\n",
            "[2, 3, 5, 7, 11, 13, 17, 19, 23, 29, 31, 37, 41, 43, 47]\n"
          ]
        }
      ]
    },
    {
      "cell_type": "markdown",
      "source": [
        "Exercise 9-1 (dirty_strings.py) Using the existing script dirty_strings.py, implement the function named cleanup(). This function accepts one string as input and returns a copy of the string with whitespace removed from the beginning and the end, and all upper case letters changed to lower case. The code to loop over a list of \"dirty\" strings and call the function is already in place. All you have to do is remove the pass statement and put your code in the cleanup() function."
      ],
      "metadata": {
        "id": "laHHyNDKJgbF"
      }
    },
    {
      "cell_type": "code",
      "source": [
        "def cleanup(s):\n",
        "    cleaned = s.strip().lower()\n",
        "    return cleaned\n",
        "\n",
        "dirty_list = [\" Apple \", \" BANANA\", \"  Cherry  \", \"MANGO  \", \"  Guava\"]\n",
        "\n",
        "print(\"Cleaned strings:\")\n",
        "for item in dirty_list:\n",
        "    result = cleanup(item)\n",
        "    print(result)"
      ],
      "metadata": {
        "colab": {
          "base_uri": "https://localhost:8080/"
        },
        "id": "HPACE4WMJjDW",
        "outputId": "1db32d85-4370-4976-bc35-d9d3a5cf85e5"
      },
      "execution_count": 54,
      "outputs": [
        {
          "output_type": "stream",
          "name": "stdout",
          "text": [
            "Cleaned strings:\n",
            "apple\n",
            "banana\n",
            "cherry\n",
            "mango\n",
            "guava\n"
          ]
        }
      ]
    },
    {
      "cell_type": "markdown",
      "source": [
        "Exercise 9-2 (c2f_func.py) Define a function named c2f() that takes one number as a parameter, and then returns the value converted from Celsius to Fahrenheit. Test your function by calling it with the values 100, 0, 37, and -40 one at a time. Example f = c2f(100) print(f) f = c2f(-40) print(f)"
      ],
      "metadata": {
        "id": "cRPuPYVUJmZH"
      }
    },
    {
      "cell_type": "code",
      "source": [
        "def c2f(c):\n",
        "    return ((9 * c) / 5) + 32\n",
        "\n",
        "print(c2f(100))\n",
        "print(c2f(0))\n",
        "print(c2f(37))\n",
        "print(c2f(-40))"
      ],
      "metadata": {
        "colab": {
          "base_uri": "https://localhost:8080/"
        },
        "id": "zt3pyPtNJomj",
        "outputId": "9e22b416-e54d-4484-e327-116e8a9206d1"
      },
      "execution_count": 55,
      "outputs": [
        {
          "output_type": "stream",
          "name": "stdout",
          "text": [
            "212.0\n",
            "32.0\n",
            "98.6\n",
            "-40.0\n"
          ]
        }
      ]
    },
    {
      "cell_type": "markdown",
      "source": [
        "Exercise 9-3 (calc.py) Write a simple four-function calculator. Repeatedly prompt the user for a math expression, which should consist of a number, an operator, and another number, all separated by whitespace. The operator may be any of \"+\",\"-\", \"/\", or \"*\". For example, the user may enter \"9 + 5\", \"4 / 28\", or \"12 * 5\". Exit the program when the user enters \"Q\" or \"q\". (Hint: split the input into the 3 parts – first value, operator, second value). Write a function for each operator (named \"add\", \"subtract\", etc). As each line is read, pass the two numbers to the appropriate function, based on the operator, and get the result, which is then output to the screen. The division function should check to see whether the second number is zero, and if so, return an error message, rather than trying to actually do the math. NOTE Expect an expression like \"5 + 4\" which you can split on whitespace FOR ADVANCED STUDENTS Add more math operations; test the input to make sure it’s numeric (although in real life you should use a try block to validate numeric conversions)."
      ],
      "metadata": {
        "id": "3S7VaH91Jq0u"
      }
    },
    {
      "cell_type": "code",
      "source": [
        "def add(a, b):\n",
        "    return a + b\n",
        "\n",
        "def subtract(a, b):\n",
        "    return a - b\n",
        "\n",
        "def multiply(a, b):\n",
        "    return a * b\n",
        "\n",
        "def divide(a, b):\n",
        "    if b == 0:\n",
        "        return \"Error: Division by zero\"\n",
        "    return a / b\n",
        "\n",
        "while True:\n",
        "    expr = input(\"Enter an expression (or 'q' to quit): \").strip()\n",
        "    if expr.lower() == 'q':\n",
        "        break\n",
        "\n",
        "    parts = expr.split()\n",
        "    if len(parts) != 3:\n",
        "        print(\"Invalid format. Use: number operator number\")\n",
        "        continue\n",
        "\n",
        "    a, op, b = parts\n",
        "\n",
        "    if not (a.replace('.', '', 1).isdigit() and b.replace('.', '', 1).isdigit()):\n",
        "        print(\"Please enter valid numbers.\")\n",
        "        continue\n",
        "\n",
        "    a = float(a)\n",
        "    b = float(b)\n",
        "\n",
        "    if op == '+':\n",
        "        result = add(a, b)\n",
        "    elif op == '-':\n",
        "        result = subtract(a, b)\n",
        "    elif op == '*':\n",
        "        result = multiply(a, b)\n",
        "    elif op == '/':\n",
        "        result = divide(a, b)\n",
        "    else:\n",
        "        result = \"Invalid operator. Use +, -, *, or /.\"\n",
        "\n",
        "    print(\"Result:\", result)"
      ],
      "metadata": {
        "colab": {
          "base_uri": "https://localhost:8080/"
        },
        "id": "OxXtdOLJJtQL",
        "outputId": "e8032ed9-cab4-46d7-ad5a-05b030c081da"
      },
      "execution_count": 56,
      "outputs": [
        {
          "name": "stdout",
          "output_type": "stream",
          "text": [
            "Enter an expression (or 'q' to quit): 3\n",
            "Invalid format. Use: number operator number\n",
            "Enter an expression (or 'q' to quit): 3+7\n",
            "Invalid format. Use: number operator number\n",
            "Enter an expression (or 'q' to quit): q\n"
          ]
        }
      ]
    }
  ]
}